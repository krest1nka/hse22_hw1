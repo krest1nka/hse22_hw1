{
  "nbformat": 4,
  "nbformat_minor": 0,
  "metadata": {
    "colab": {
      "provenance": [],
      "collapsed_sections": []
    },
    "kernelspec": {
      "name": "python3",
      "display_name": "Python 3"
    },
    "language_info": {
      "name": "python"
    }
  },
  "cells": [
    {
      "cell_type": "code",
      "execution_count": null,
      "metadata": {
        "id": "3rCkab20OrTv"
      },
      "outputs": [],
      "source": [
        "import re"
      ]
    },
    {
      "cell_type": "code",
      "source": [
        "def solve(dir):\n",
        "    cnt, c_len, m_len, lens, sum_lens, n_50 = 0, 0, 0, [], 0, 0\n",
        "    f = open(dir, 'r')\n",
        "    \n",
        "    for line in f:\n",
        "        if (line[0] == '>'):\n",
        "            length = int(re.findall('\\d+', line)[1])\n",
        "            lens.append(length)\n",
        "            cnt += 1\n",
        "            c_len += length\n",
        "            m_len = max(m_len, length)\n",
        "\n",
        "    lens.sort(reverse = True)\n",
        "\n",
        "    for l in lens:\n",
        "        sum_lens += l\n",
        "        if sum_lens * 2 >= c_len:\n",
        "            n_50 = l\n",
        "            break\n",
        "\n",
        "    print(f\"Количество: {cnt}\")\n",
        "    print(f\"Общая длина: {c_len}\")\n",
        "    print(f\"Наибольшая длина: {m_len}\")\n",
        "    print(f\"N50: {n_50}\")"
      ],
      "metadata": {
        "id": "NRbznwJSOwrU"
      },
      "execution_count": 22,
      "outputs": []
    },
    {
      "cell_type": "code",
      "source": [
        "def max_sequence(dir):\n",
        "    ans = ''\n",
        "    cur = ''\n",
        "    f = open(dir, 'r')\n",
        "\n",
        "    for line in f:\n",
        "        if line[0] == '>':\n",
        "            if len(cur) > len(ans):\n",
        "              ans = cur\n",
        "            cur = ''\n",
        "        else:\n",
        "            cur += line.strip()\n",
        "    if len(cur) > len(ans):\n",
        "      ans = cur\n",
        "\n",
        "    print(f\"Количество: {len(re.findall('NNNN', ans))}\")\n",
        "    print(f\"Длина: {ans.count('N')}\")"
      ],
      "metadata": {
        "id": "SiF5WaumQCLa"
      },
      "execution_count": 52,
      "outputs": []
    },
    {
      "cell_type": "code",
      "source": [
        "solve(\"Poil_contig.fa\")"
      ],
      "metadata": {
        "colab": {
          "base_uri": "https://localhost:8080/"
        },
        "id": "DkEcI9cDPw9y",
        "outputId": "1e774fa1-c5fd-432e-e121-957bb4fba28e"
      },
      "execution_count": 26,
      "outputs": [
        {
          "output_type": "stream",
          "name": "stdout",
          "text": [
            "Количество: 602\n",
            "Общая длина: 3924007\n",
            "Наибольшая длина: 179307\n",
            "N50: 53980\n"
          ]
        }
      ]
    },
    {
      "cell_type": "code",
      "source": [
        "solve(\"Poil_scaffold.fa\")"
      ],
      "metadata": {
        "colab": {
          "base_uri": "https://localhost:8080/"
        },
        "id": "205_eBmxP3eI",
        "outputId": "71202a52-f3bd-4ef7-e4b3-b507b2ea12a5"
      },
      "execution_count": 17,
      "outputs": [
        {
          "output_type": "stream",
          "name": "stdout",
          "text": [
            "Количество: 68\n",
            "Общая длина: 3873764\n",
            "Наибольшая длина: 3838187\n",
            "N50: 3838187\n"
          ]
        }
      ]
    },
    {
      "cell_type": "code",
      "source": [
        "max_sequence(\"Poil_scaffold.fa\")"
      ],
      "metadata": {
        "colab": {
          "base_uri": "https://localhost:8080/"
        },
        "id": "UWFW9ks0P_VJ",
        "outputId": "523d5f11-063a-4d95-b905-137d456005bf"
      },
      "execution_count": 53,
      "outputs": [
        {
          "output_type": "stream",
          "name": "stdout",
          "text": [
            "Количество: 1657\n",
            "Длина: 6723\n"
          ]
        }
      ]
    },
    {
      "cell_type": "code",
      "source": [
        "max_sequence(\"Poil_gapClosed.fa\")"
      ],
      "metadata": {
        "colab": {
          "base_uri": "https://localhost:8080/"
        },
        "id": "CmyJngHVQOrV",
        "outputId": "47c6eaea-29ff-412b-901d-3d9354b0b6db"
      },
      "execution_count": 51,
      "outputs": [
        {
          "output_type": "stream",
          "name": "stdout",
          "text": [
            "Количество: 469\n",
            "Длина: 1887\n"
          ]
        }
      ]
    }
  ]
}